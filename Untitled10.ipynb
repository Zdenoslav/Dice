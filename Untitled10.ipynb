{
  "nbformat": 4,
  "nbformat_minor": 0,
  "metadata": {
    "colab": {
      "name": "Untitled10.ipynb",
      "provenance": [],
      "authorship_tag": "ABX9TyP56QxK3rDk/qQ75Tjhzbl0",
      "include_colab_link": true
    },
    "kernelspec": {
      "name": "python3",
      "display_name": "Python 3"
    }
  },
  "cells": [
    {
      "cell_type": "markdown",
      "metadata": {
        "id": "view-in-github",
        "colab_type": "text"
      },
      "source": [
        "<a href=\"https://colab.research.google.com/github/Zdenoslav/Dice/blob/master/Untitled10.ipynb\" target=\"_parent\"><img src=\"https://colab.research.google.com/assets/colab-badge.svg\" alt=\"Open In Colab\"/></a>"
      ]
    },
    {
      "cell_type": "code",
      "metadata": {
        "id": "9R2V99PWZzlL",
        "colab_type": "code",
        "colab": {
          "base_uri": "https://localhost:8080/",
          "height": 107
        },
        "outputId": "9cee0c73-b4c0-43e6-8c50-a37925d700f5"
      },
      "source": [
        "class Stack():\n",
        "  def __init__(self):\n",
        "    self.items = []\n",
        "\n",
        "  def push(self, item):\n",
        "    self.items.append(item)\n",
        "  \n",
        "  def pop(self):\n",
        "    return self.items.pop()\n",
        "\n",
        "  def is_empty(self):\n",
        "    return self.items == []\n",
        "  \n",
        "  def peek(self):\n",
        "      if not self.is_empty():\n",
        "        return self.items[-1]\n",
        "\n",
        "  def get_stack(self):\n",
        "    return self.items\n",
        "\n",
        "s = Stack()\n",
        "s.push('A')\n",
        "s.push('B')\n",
        "print(s.get_stack())\n",
        "s.push('C')\n",
        "print(s.get_stack())\n",
        "s.pop()\n",
        "print(s.get_stack())\n",
        "print(s.is_empty())\n",
        "print(s.peek())"
      ],
      "execution_count": 7,
      "outputs": [
        {
          "output_type": "stream",
          "text": [
            "['A', 'B']\n",
            "['A', 'B', 'C']\n",
            "['A', 'B']\n",
            "False\n",
            "B\n"
          ],
          "name": "stdout"
        }
      ]
    }
  ]
}