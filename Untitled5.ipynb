{
  "nbformat": 4,
  "nbformat_minor": 0,
  "metadata": {
    "colab": {
      "name": "Untitled5.ipynb",
      "provenance": [],
      "authorship_tag": "ABX9TyNDlfa4V/QtXqNABN5bd0T7",
      "include_colab_link": true
    },
    "kernelspec": {
      "name": "python3",
      "display_name": "Python 3"
    }
  },
  "cells": [
    {
      "cell_type": "markdown",
      "metadata": {
        "id": "view-in-github",
        "colab_type": "text"
      },
      "source": [
        "<a href=\"https://colab.research.google.com/github/Zdenoslav/Dice/blob/master/Untitled5.ipynb\" target=\"_parent\"><img src=\"https://colab.research.google.com/assets/colab-badge.svg\" alt=\"Open In Colab\"/></a>"
      ]
    },
    {
      "cell_type": "code",
      "metadata": {
        "id": "wRzr5aCqE1T1",
        "colab_type": "code",
        "colab": {
          "base_uri": "https://localhost:8080/",
          "height": 35
        },
        "outputId": "d909fcfc-eb39-4d8c-9d45-55e59f5384e8"
      },
      "source": [
        "def double_star(s):\n",
        "  return '**' + s + '**'\n",
        "\n",
        "s = 'Python is great'\n",
        "\n",
        "print(double_star(s))"
      ],
      "execution_count": 3,
      "outputs": [
        {
          "output_type": "stream",
          "text": [
            "**Python is great**\n"
          ],
          "name": "stdout"
        }
      ]
    },
    {
      "cell_type": "code",
      "metadata": {
        "id": "tW4L0zJFO45t",
        "colab_type": "code",
        "colab": {
          "base_uri": "https://localhost:8080/",
          "height": 143
        },
        "outputId": "6804416c-438a-4fcc-be65-c83303565b01"
      },
      "source": [
        "\n",
        "def triangle(size):\n",
        "  s = ''\n",
        "  for i in range(1, size+1):\n",
        "    s += '*' * i +'\\n'\n",
        "  return s\n",
        "\n",
        "s = triangle(6) \n",
        "\n",
        "\n",
        "print(s)"
      ],
      "execution_count": 10,
      "outputs": [
        {
          "output_type": "stream",
          "text": [
            "*\n",
            "**\n",
            "***\n",
            "****\n",
            "*****\n",
            "******\n",
            "\n"
          ],
          "name": "stdout"
        }
      ]
    }
  ]
}